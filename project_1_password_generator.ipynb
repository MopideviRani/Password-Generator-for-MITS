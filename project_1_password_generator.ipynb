{
  "nbformat": 4,
  "nbformat_minor": 0,
  "metadata": {
    "colab": {
      "provenance": []
    },
    "kernelspec": {
      "name": "python3",
      "display_name": "Python 3"
    },
    "language_info": {
      "name": "python"
    }
  },
  "cells": [
    {
      "cell_type": "code",
      "execution_count": null,
      "metadata": {
        "colab": {
          "base_uri": "https://localhost:8080/"
        },
        "id": "AjIx2sKFIjp8",
        "outputId": "1ed1120b-d1c4-4c83-af9c-c220d3db220a"
      },
      "outputs": [
        {
          "output_type": "stream",
          "name": "stdout",
          "text": [
            "Enter password length: 12\n",
            "Include uppercase letters? (y/n): y\n",
            "Include lowercase letters? (y/n): y\n",
            "Include numbers? (y/n): y\n",
            "Include special characters? (y/n): y\n",
            "\n",
            "Generated Password: #&c7NI!+OJtQ\n"
          ]
        }
      ],
      "source": [
        "import random\n",
        "import string\n",
        "\n",
        "def generate_password(length, use_upper, use_lower, use_digits, use_special):\n",
        "    characters = ''\n",
        "    if use_upper:\n",
        "        characters += string.ascii_uppercase\n",
        "    if use_lower:\n",
        "        characters += string.ascii_lowercase\n",
        "    if use_digits:\n",
        "        characters += string.digits\n",
        "    if use_special:\n",
        "        characters += string.punctuation\n",
        "\n",
        "    if not characters:\n",
        "        return \"Please select at least one character type.\"\n",
        "\n",
        "    password = ''.join(random.choice(characters) for _ in range(length))\n",
        "    return password\n",
        "\n",
        "# User inputs\n",
        "try:\n",
        "    length = int(input(\"Enter password length: \"))\n",
        "    use_upper = input(\"Include uppercase letters? (y/n): \").lower() == 'y'\n",
        "    use_lower = input(\"Include lowercase letters? (y/n): \").lower() == 'y'\n",
        "    use_digits = input(\"Include numbers? (y/n): \").lower() == 'y'\n",
        "    use_special = input(\"Include special characters? (y/n): \").lower() == 'y'\n",
        "\n",
        "    result = generate_password(length, use_upper, use_lower, use_digits, use_special)\n",
        "    print(\"\\nGenerated Password:\", result)\n",
        "except ValueError:\n",
        "    print(\"Invalid input! Please enter a valid number for password length.\")\n"
      ]
    }
  ]
}